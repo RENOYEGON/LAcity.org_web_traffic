{
 "cells": [
  {
   "cell_type": "markdown",
   "id": "731eb521",
   "metadata": {},
   "source": [
    "### 🧹data cleaning and transformation in python to create the dataset to be used analysis"
   ]
  },
  {
   "cell_type": "code",
   "execution_count": 27,
   "id": "548f4b0b",
   "metadata": {},
   "outputs": [],
   "source": [
    "import pandas as pd\n",
    "import numpy as np\n"
   ]
  },
  {
   "cell_type": "code",
   "execution_count": 28,
   "id": "17a7f4cb",
   "metadata": {},
   "outputs": [
    {
     "data": {
      "application/vnd.microsoft.datawrangler.viewer.v0+json": {
       "columns": [
        {
         "name": "index",
         "rawType": "int64",
         "type": "integer"
        },
        {
         "name": "Date",
         "rawType": "object",
         "type": "string"
        },
        {
         "name": "Device Category",
         "rawType": "object",
         "type": "string"
        },
        {
         "name": "Browser",
         "rawType": "object",
         "type": "string"
        },
        {
         "name": "# of Visitors",
         "rawType": "int64",
         "type": "integer"
        },
        {
         "name": "Sessions",
         "rawType": "int64",
         "type": "integer"
        },
        {
         "name": "Bounce Rate",
         "rawType": "float64",
         "type": "float"
        }
       ],
       "conversionMethod": "pd.DataFrame",
       "ref": "e249385a-de1c-4802-81a2-6cee47b01628",
       "rows": [
        [
         "0",
         "08/27/2019",
         "desktop",
         "Chrome",
         "278",
         "318",
         "50.0"
        ],
        [
         "1",
         "08/27/2019",
         "desktop",
         "Internet Explorer",
         "40",
         "40",
         "0.0"
        ],
        [
         "2",
         "08/27/2019",
         "mobile",
         "Chrome",
         "199",
         "318",
         "50.0"
        ],
        [
         "3",
         "08/27/2019",
         "tablet",
         "Chrome",
         "40",
         "40",
         "100.0"
        ],
        [
         "4",
         "08/27/2019",
         "desktop",
         "Firefox",
         "40",
         "40",
         "0.0"
        ]
       ],
       "shape": {
        "columns": 6,
        "rows": 5
       }
      },
      "text/html": [
       "<div>\n",
       "<style scoped>\n",
       "    .dataframe tbody tr th:only-of-type {\n",
       "        vertical-align: middle;\n",
       "    }\n",
       "\n",
       "    .dataframe tbody tr th {\n",
       "        vertical-align: top;\n",
       "    }\n",
       "\n",
       "    .dataframe thead th {\n",
       "        text-align: right;\n",
       "    }\n",
       "</style>\n",
       "<table border=\"1\" class=\"dataframe\">\n",
       "  <thead>\n",
       "    <tr style=\"text-align: right;\">\n",
       "      <th></th>\n",
       "      <th>Date</th>\n",
       "      <th>Device Category</th>\n",
       "      <th>Browser</th>\n",
       "      <th># of Visitors</th>\n",
       "      <th>Sessions</th>\n",
       "      <th>Bounce Rate</th>\n",
       "    </tr>\n",
       "  </thead>\n",
       "  <tbody>\n",
       "    <tr>\n",
       "      <th>0</th>\n",
       "      <td>08/27/2019</td>\n",
       "      <td>desktop</td>\n",
       "      <td>Chrome</td>\n",
       "      <td>278</td>\n",
       "      <td>318</td>\n",
       "      <td>50.0</td>\n",
       "    </tr>\n",
       "    <tr>\n",
       "      <th>1</th>\n",
       "      <td>08/27/2019</td>\n",
       "      <td>desktop</td>\n",
       "      <td>Internet Explorer</td>\n",
       "      <td>40</td>\n",
       "      <td>40</td>\n",
       "      <td>0.0</td>\n",
       "    </tr>\n",
       "    <tr>\n",
       "      <th>2</th>\n",
       "      <td>08/27/2019</td>\n",
       "      <td>mobile</td>\n",
       "      <td>Chrome</td>\n",
       "      <td>199</td>\n",
       "      <td>318</td>\n",
       "      <td>50.0</td>\n",
       "    </tr>\n",
       "    <tr>\n",
       "      <th>3</th>\n",
       "      <td>08/27/2019</td>\n",
       "      <td>tablet</td>\n",
       "      <td>Chrome</td>\n",
       "      <td>40</td>\n",
       "      <td>40</td>\n",
       "      <td>100.0</td>\n",
       "    </tr>\n",
       "    <tr>\n",
       "      <th>4</th>\n",
       "      <td>08/27/2019</td>\n",
       "      <td>desktop</td>\n",
       "      <td>Firefox</td>\n",
       "      <td>40</td>\n",
       "      <td>40</td>\n",
       "      <td>0.0</td>\n",
       "    </tr>\n",
       "  </tbody>\n",
       "</table>\n",
       "</div>"
      ],
      "text/plain": [
       "         Date Device Category            Browser  # of Visitors  Sessions  \\\n",
       "0  08/27/2019         desktop             Chrome            278       318   \n",
       "1  08/27/2019         desktop  Internet Explorer             40        40   \n",
       "2  08/27/2019          mobile             Chrome            199       318   \n",
       "3  08/27/2019          tablet             Chrome             40        40   \n",
       "4  08/27/2019         desktop            Firefox             40        40   \n",
       "\n",
       "   Bounce Rate  \n",
       "0         50.0  \n",
       "1          0.0  \n",
       "2         50.0  \n",
       "3        100.0  \n",
       "4          0.0  "
      ]
     },
     "execution_count": 28,
     "metadata": {},
     "output_type": "execute_result"
    }
   ],
   "source": [
    "df=pd.read_csv(r\"C:\\Users\\USER\\Downloads\\LAcity.org\\LAcity_Website_Traffic.csv\")\n",
    "df.head()"
   ]
  },
  {
   "cell_type": "markdown",
   "id": "d2af43ff",
   "metadata": {
    "slideshow": {
     "slide_type": "notes"
    }
   },
   "source": [
    "### 🔄 Step 1: Standardize Column Names\n",
    "\n",
    "We'll rename columns to match best practices (snake_case)."
   ]
  },
  {
   "cell_type": "code",
   "execution_count": 29,
   "id": "ba286f84",
   "metadata": {},
   "outputs": [
    {
     "data": {
      "text/plain": [
       "Index(['date', 'device_category', 'browser', 'unique_visitors', 'sessions',\n",
       "       'bounce_rate'],\n",
       "      dtype='object')"
      ]
     },
     "execution_count": 29,
     "metadata": {},
     "output_type": "execute_result"
    }
   ],
   "source": [
    "df.rename(columns={\n",
    "    \"Date\": \"date\",\n",
    "    \"Device Category\": \"device_category\",\n",
    "    \"Browser\": \"browser\",\n",
    "    \"# of Visitors\": \"unique_visitors\",\n",
    "    \"Sessions\": \"sessions\",\n",
    "    \"Bounce Rate\": \"bounce_rate\"\n",
    "}, inplace=True)\n",
    "\n",
    "df.columns\n"
   ]
  },
  {
   "cell_type": "markdown",
   "id": "c76dc0c8",
   "metadata": {},
   "source": [
    "### 📆 Step 2: Convert the `date` column to datetime format\n"
   ]
  },
  {
   "cell_type": "code",
   "execution_count": 30,
   "id": "7ae324ab",
   "metadata": {},
   "outputs": [
    {
     "data": {
      "text/plain": [
       "date               datetime64[ns]\n",
       "device_category            object\n",
       "browser                    object\n",
       "unique_visitors             int64\n",
       "sessions                    int64\n",
       "bounce_rate               float64\n",
       "dtype: object"
      ]
     },
     "execution_count": 30,
     "metadata": {},
     "output_type": "execute_result"
    }
   ],
   "source": [
    "df['date'] = pd.to_datetime(df['date'], errors='coerce')\n",
    "df.dtypes\n"
   ]
  },
  {
   "cell_type": "markdown",
   "id": "2267e01d",
   "metadata": {},
   "source": [
    "### 🔍 Step 3: converting the date column from full datetime (2019-08-27 00:00:00) to just the date part (2019-08-27)"
   ]
  },
  {
   "cell_type": "code",
   "execution_count": 31,
   "id": "332f103a",
   "metadata": {},
   "outputs": [],
   "source": [
    "df['date'] = df['date'].dt.date"
   ]
  },
  {
   "cell_type": "markdown",
   "id": "8fbc3424",
   "metadata": {},
   "source": [
    "### 🔍 Step 4: Explore Device Categories and Browsers\n"
   ]
  },
  {
   "cell_type": "code",
   "execution_count": 32,
   "id": "1a79e03c",
   "metadata": {},
   "outputs": [
    {
     "name": "stdout",
     "output_type": "stream",
     "text": [
      "Device Categories: ['desktop' 'mobile' 'tablet']\n",
      "\n",
      "Browsers (sorted): ['\"mozilla', \"'Mozilla\", '(not set)', 'AdobeAIR', 'Amazon Silk', 'Android Browser', 'Android Webview', 'BlackBerry', 'BlackBerry9550', 'BlackBerry9630', 'Bluebeam Revu Browser - cef version: 57.0.0.0', 'BrowserNG', 'Camino', 'Chrome', 'Coc Coc', 'DDG-Android-3.0.12', 'Dolfin', 'Easy-Thumb', 'Edge', 'Firefox', 'HggH PhantomJS Screenshoter', 'IE with Chrome Frame', 'Internet Explorer', 'Iron', 'Konqueror', 'MRCHROME', 'Maxthon', 'Mozilla', 'Mozilla Compatible Agent', 'NetFront', 'Netscape', 'Nintendo 3DS Browser', 'Nintendo Browser', 'Nokia Browser', 'Opera', 'Opera Mini', 'Peeplo Screenshot Bot', 'Phantom Browser', 'Phantom.js bot', 'PlayFreeBrowser', 'Playstation 3', 'Playstation 4', 'Playstation Vita Browser', 'Puffin', 'S40 Ovi Browser', 'Safari', 'Safari (in-app)', 'Samsung Internet', 'SeaMonkey', 'UC Browser', 'UCWEB', 'WeSEE_Bot:we_help_monitize_your_site', 'YE', 'YaBrowser', 'YelpWebView', 'fuelbot', 'mozilla', 'pr-cy.ru Screenshot Bot', 'samsung-GT-I9500']\n"
     ]
    }
   ],
   "source": [
    "print(\"Device Categories:\", df['device_category'].dropna().unique())\n",
    "print(\"\\nBrowsers (sorted):\", sorted(df['browser'].dropna().unique()))\n"
   ]
  },
  {
   "cell_type": "markdown",
   "id": "d7dbd0f7",
   "metadata": {},
   "source": [
    "### 🧹 Step 5: Clean Formatting Issues\n",
    "- Strip whitespace\n",
    "- Remove quotation marks\n"
   ]
  },
  {
   "cell_type": "code",
   "execution_count": 33,
   "id": "ea7875be",
   "metadata": {},
   "outputs": [],
   "source": [
    "\n",
    "df['browser'] = df['browser'].str.strip().str.strip('\"').str.strip(\"'\").str.title()"
   ]
  },
  {
   "cell_type": "markdown",
   "id": "1778c159",
   "metadata": {},
   "source": [
    "### ✏️ Step 6: Standardize Some Browser Values (if needed)\n"
   ]
  },
  {
   "cell_type": "code",
   "execution_count": 34,
   "id": "573252d8",
   "metadata": {},
   "outputs": [
    {
     "name": "stdout",
     "output_type": "stream",
     "text": [
      "\n",
      "Cleaned browser values:\n",
      "['Chrome' 'Internet Explorer' 'Firefox' 'Edge' 'Safari' 'Amazon Silk'\n",
      " 'Mozilla' 'Opera Mini' 'Samsung Internet' 'Safari (In-App)'\n",
      " 'Android Webview' 'Opera' 'Android Browser' 'Yabrowser' 'Nokia Browser'\n",
      " 'Playstation Browser' 'Blackberry' 'Coc Coc' 'Puffin' 'Uc Browser'\n",
      " 'Mrchrome' 'Seamonkey' 'Bot'\n",
      " 'Bluebeam Revu Browser - Cef Version: 57.0.0.0' 'Maxthon' 'Ucweb'\n",
      " 'Adobeair' 'Iron' 'Yelpwebview' 'Easy-Thumb' 'Nintendo Browser'\n",
      " 'Netfront' 'Ddg-Android-3.0.12' 'Ye' 'Nintendo 3Ds Browser'\n",
      " 'Blackberry9630' 'S40 Ovi Browser' 'Samsung-Gt-I9500' 'Blackberry9550'\n",
      " 'Konqueror' 'Dolfin' 'Phantom Browser' 'Camino' 'Netscape'\n",
      " 'Playfreebrowser' 'Browserng']\n"
     ]
    }
   ],
   "source": [
    "# Define browser normalization map\n",
    "browser_mapping = {\n",
    "    # Mozilla-related\n",
    "    \"Mozilla Compatible Agent\": \"Mozilla\",\n",
    "    \"Mozilla\": \"Mozilla\",\n",
    "    \"Mozilla\": \"Mozilla\",\n",
    "\n",
    "    # Firefox\n",
    "    \"Firefox\": \"Firefox\",\n",
    "    \"Mozilla\": \"Mozilla\",  # Optional merge if you decide to combine\n",
    "\n",
    "    # Internet Explorer\n",
    "    \"Ie With Chrome Frame\": \"Internet Explorer\",\n",
    "    \"Internet Explorer\": \"Internet Explorer\",\n",
    "\n",
    "    # Playstation\n",
    "    \"Playstation 3\": \"Playstation Browser\",\n",
    "    \"Playstation 4\": \"Playstation Browser\",\n",
    "    \"Playstation Vita Browser\": \"Playstation Browser\",\n",
    "\n",
    "    # Bots\n",
    "    \"Phantom.Js Bot\": \"Bot\",\n",
    "    \"Hggh Phantomjs Screenshoter\": \"Bot\",\n",
    "    \"Peeplo Screenshot Bot\": \"Bot\",\n",
    "    \"Wesee_Bot:We_Help_Monitize_Your_Site\": \"Bot\",\n",
    "    \"Pr-Cy.Ru Screenshot Bot\": \"Bot\",\n",
    "    \"Fuelbot\": \"Bot\",\n",
    "\n",
    "    # Other (keep as-is or define new mappings later)\n",
    "}\n",
    "\n",
    "# Apply mapping (map returns NaN for unmapped values, so fillna with original value)\n",
    "df['browser'] = df['browser'].map(browser_mapping).fillna(df['browser'])\n",
    "\n",
    "# Handle placeholder or missing browser values\n",
    "df['browser'] = df['browser'].replace('(Not Set)', pd.NA)\n",
    "\n",
    "# Review cleaned browser values\n",
    "print(\"\\nCleaned browser values:\")\n",
    "print(df['browser'].dropna().unique())"
   ]
  },
  {
   "cell_type": "markdown",
   "id": "64d96b2d",
   "metadata": {},
   "source": [
    "### ❓ Step 7: Replace '(not set)' with Nulls\n",
    "- Handling Null Browser Values"
   ]
  },
  {
   "cell_type": "code",
   "execution_count": 35,
   "id": "48cc5b85",
   "metadata": {},
   "outputs": [],
   "source": [
    "df['browser'] = df['browser'].replace('(not set)', np.nan)\n"
   ]
  },
  {
   "cell_type": "code",
   "execution_count": 36,
   "id": "49ef364f",
   "metadata": {},
   "outputs": [],
   "source": [
    "df['browser'] = df['browser'].fillna('Unknown')"
   ]
  },
  {
   "cell_type": "markdown",
   "id": "b3d44af6",
   "metadata": {},
   "source": [
    "### 🔍 Step 8: Count Missing Values Across Key Columns\n"
   ]
  },
  {
   "cell_type": "code",
   "execution_count": 37,
   "id": "5f75b7f0",
   "metadata": {},
   "outputs": [
    {
     "data": {
      "text/plain": [
       "date               0\n",
       "device_category    0\n",
       "unique_visitors    0\n",
       "sessions           0\n",
       "bounce_rate        0\n",
       "dtype: int64"
      ]
     },
     "execution_count": 37,
     "metadata": {},
     "output_type": "execute_result"
    }
   ],
   "source": [
    "null_counts = df[['date', 'device_category', 'unique_visitors', 'sessions', 'bounce_rate']].isnull().sum()\n",
    "null_counts\n"
   ]
  },
  {
   "cell_type": "markdown",
   "id": "28bce483",
   "metadata": {},
   "source": [
    "### 📊 Step 9: Summary Statistics\n"
   ]
  },
  {
   "cell_type": "code",
   "execution_count": 38,
   "id": "4aebbe1c",
   "metadata": {},
   "outputs": [
    {
     "data": {
      "text/plain": [
       "{'start_date': datetime.date(2014, 1, 1),\n",
       " 'end_date': datetime.date(2019, 8, 27),\n",
       " 'device_count': 3,\n",
       " 'browser_count': 47,\n",
       " 'min_visitors': 35,\n",
       " 'max_visitors': 34365,\n",
       " 'min_sessions': 35,\n",
       " 'max_sessions': 46172,\n",
       " 'min_bounce': 0.0,\n",
       " 'max_bounce': 100.0}"
      ]
     },
     "execution_count": 38,
     "metadata": {},
     "output_type": "execute_result"
    }
   ],
   "source": [
    "summary = {\n",
    "    \"start_date\": df['date'].min(),\n",
    "    \"end_date\": df['date'].max(),\n",
    "    \"device_count\": df['device_category'].nunique(),\n",
    "    \"browser_count\": df['browser'].nunique(),\n",
    "    \"min_visitors\": df['unique_visitors'].min(),\n",
    "    \"max_visitors\": df['unique_visitors'].max(),\n",
    "    \"min_sessions\": df['sessions'].min(),\n",
    "    \"max_sessions\": df['sessions'].max(),\n",
    "    \"min_bounce\": df['bounce_rate'].min(),\n",
    "    \"max_bounce\": df['bounce_rate'].max()\n",
    "}\n",
    "summary\n"
   ]
  },
  {
   "cell_type": "markdown",
   "id": "9331217e",
   "metadata": {},
   "source": [
    "### 🔍 Step 10 duplicates check "
   ]
  },
  {
   "cell_type": "code",
   "execution_count": 39,
   "id": "68a8b8b2",
   "metadata": {},
   "outputs": [
    {
     "name": "stdout",
     "output_type": "stream",
     "text": [
      "Duplicate rows (excluding first): 5653086\n"
     ]
    }
   ],
   "source": [
    "# Define the subset of columns to check for duplicates\n",
    "duplicate_columns = ['date', 'device_category', 'browser', 'unique_visitors', 'sessions', 'bounce_rate']\n",
    "\n",
    "# Find all duplicates across these columns (excluding the first occurrence)\n",
    "duplicates = df[df.duplicated(subset=duplicate_columns)]\n",
    "\n",
    "print(f\"Duplicate rows (excluding first): {len(duplicates)}\")\n"
   ]
  },
  {
   "cell_type": "code",
   "execution_count": 40,
   "id": "8a62008c",
   "metadata": {},
   "outputs": [
    {
     "name": "stdout",
     "output_type": "stream",
     "text": [
      "All duplicate rows: 6675817\n"
     ]
    }
   ],
   "source": [
    "duplicates_all = df[df.duplicated(subset=duplicate_columns, keep=False)]\n",
    "\n",
    "print(f\"All duplicate rows: {len(duplicates_all)}\")\n"
   ]
  },
  {
   "cell_type": "code",
   "execution_count": 41,
   "id": "abd72f33",
   "metadata": {},
   "outputs": [],
   "source": [
    "df = df.drop_duplicates(subset=duplicate_columns, keep='first')\n"
   ]
  },
  {
   "cell_type": "code",
   "execution_count": 42,
   "id": "02debb42",
   "metadata": {},
   "outputs": [
    {
     "name": "stdout",
     "output_type": "stream",
     "text": [
      "Total duplicate rows: 0\n"
     ]
    }
   ],
   "source": [
    "print(f\"Total duplicate rows: {df.duplicated(subset=['date', 'device_category', 'browser', 'unique_visitors', 'sessions', 'bounce_rate']).sum()}\")\n"
   ]
  },
  {
   "cell_type": "markdown",
   "id": "4be2a1a5",
   "metadata": {},
   "source": [
    "### Ready for further exploration and visualization"
   ]
  },
  {
   "cell_type": "markdown",
   "id": "bed89efb",
   "metadata": {},
   "source": [
    "### 💾 Step 11:  Save Cleaned Data\n"
   ]
  },
  {
   "cell_type": "code",
   "execution_count": 43,
   "id": "3eafda20",
   "metadata": {},
   "outputs": [],
   "source": [
    "df.to_csv(\"cleaned_traffic.csv\", index=False)\n"
   ]
  },
  {
   "cell_type": "code",
   "execution_count": 44,
   "id": "e25b54ba",
   "metadata": {},
   "outputs": [
    {
     "data": {
      "application/vnd.microsoft.datawrangler.viewer.v0+json": {
       "columns": [
        {
         "name": "index",
         "rawType": "int64",
         "type": "integer"
        },
        {
         "name": "date",
         "rawType": "object",
         "type": "unknown"
        },
        {
         "name": "device_category",
         "rawType": "object",
         "type": "string"
        },
        {
         "name": "browser",
         "rawType": "object",
         "type": "string"
        },
        {
         "name": "unique_visitors",
         "rawType": "int64",
         "type": "integer"
        },
        {
         "name": "sessions",
         "rawType": "int64",
         "type": "integer"
        },
        {
         "name": "bounce_rate",
         "rawType": "float64",
         "type": "float"
        }
       ],
       "conversionMethod": "pd.DataFrame",
       "ref": "14127032-621e-4a0e-83ba-2357d7ca6611",
       "rows": [
        [
         "0",
         "2019-08-27",
         "desktop",
         "Chrome",
         "278",
         "318",
         "50.0"
        ],
        [
         "1",
         "2019-08-27",
         "desktop",
         "Internet Explorer",
         "40",
         "40",
         "0.0"
        ],
        [
         "2",
         "2019-08-27",
         "mobile",
         "Chrome",
         "199",
         "318",
         "50.0"
        ],
        [
         "3",
         "2019-08-27",
         "tablet",
         "Chrome",
         "40",
         "40",
         "100.0"
        ],
        [
         "4",
         "2019-08-27",
         "desktop",
         "Firefox",
         "40",
         "40",
         "0.0"
        ]
       ],
       "shape": {
        "columns": 6,
        "rows": 5
       }
      },
      "text/html": [
       "<div>\n",
       "<style scoped>\n",
       "    .dataframe tbody tr th:only-of-type {\n",
       "        vertical-align: middle;\n",
       "    }\n",
       "\n",
       "    .dataframe tbody tr th {\n",
       "        vertical-align: top;\n",
       "    }\n",
       "\n",
       "    .dataframe thead th {\n",
       "        text-align: right;\n",
       "    }\n",
       "</style>\n",
       "<table border=\"1\" class=\"dataframe\">\n",
       "  <thead>\n",
       "    <tr style=\"text-align: right;\">\n",
       "      <th></th>\n",
       "      <th>date</th>\n",
       "      <th>device_category</th>\n",
       "      <th>browser</th>\n",
       "      <th>unique_visitors</th>\n",
       "      <th>sessions</th>\n",
       "      <th>bounce_rate</th>\n",
       "    </tr>\n",
       "  </thead>\n",
       "  <tbody>\n",
       "    <tr>\n",
       "      <th>0</th>\n",
       "      <td>2019-08-27</td>\n",
       "      <td>desktop</td>\n",
       "      <td>Chrome</td>\n",
       "      <td>278</td>\n",
       "      <td>318</td>\n",
       "      <td>50.0</td>\n",
       "    </tr>\n",
       "    <tr>\n",
       "      <th>1</th>\n",
       "      <td>2019-08-27</td>\n",
       "      <td>desktop</td>\n",
       "      <td>Internet Explorer</td>\n",
       "      <td>40</td>\n",
       "      <td>40</td>\n",
       "      <td>0.0</td>\n",
       "    </tr>\n",
       "    <tr>\n",
       "      <th>2</th>\n",
       "      <td>2019-08-27</td>\n",
       "      <td>mobile</td>\n",
       "      <td>Chrome</td>\n",
       "      <td>199</td>\n",
       "      <td>318</td>\n",
       "      <td>50.0</td>\n",
       "    </tr>\n",
       "    <tr>\n",
       "      <th>3</th>\n",
       "      <td>2019-08-27</td>\n",
       "      <td>tablet</td>\n",
       "      <td>Chrome</td>\n",
       "      <td>40</td>\n",
       "      <td>40</td>\n",
       "      <td>100.0</td>\n",
       "    </tr>\n",
       "    <tr>\n",
       "      <th>4</th>\n",
       "      <td>2019-08-27</td>\n",
       "      <td>desktop</td>\n",
       "      <td>Firefox</td>\n",
       "      <td>40</td>\n",
       "      <td>40</td>\n",
       "      <td>0.0</td>\n",
       "    </tr>\n",
       "  </tbody>\n",
       "</table>\n",
       "</div>"
      ],
      "text/plain": [
       "         date device_category            browser  unique_visitors  sessions  \\\n",
       "0  2019-08-27         desktop             Chrome              278       318   \n",
       "1  2019-08-27         desktop  Internet Explorer               40        40   \n",
       "2  2019-08-27          mobile             Chrome              199       318   \n",
       "3  2019-08-27          tablet             Chrome               40        40   \n",
       "4  2019-08-27         desktop            Firefox               40        40   \n",
       "\n",
       "   bounce_rate  \n",
       "0         50.0  \n",
       "1          0.0  \n",
       "2         50.0  \n",
       "3        100.0  \n",
       "4          0.0  "
      ]
     },
     "execution_count": 44,
     "metadata": {},
     "output_type": "execute_result"
    }
   ],
   "source": [
    "df.head()"
   ]
  },
  {
   "cell_type": "code",
   "execution_count": 45,
   "id": "5fbcef42",
   "metadata": {},
   "outputs": [
    {
     "name": "stdout",
     "output_type": "stream",
     "text": [
      "       unique_visitors      sessions   bounce_rate\n",
      "count     2.695899e+06  2.695899e+06  2.695899e+06\n",
      "mean      1.394225e+03  1.574463e+03  4.905789e+01\n",
      "std       1.282043e+03  1.469549e+03  1.815124e+01\n",
      "min       3.500000e+01  3.500000e+01  0.000000e+00\n",
      "25%       5.950000e+02  6.650000e+02  3.772000e+01\n",
      "50%       1.063000e+03  1.189000e+03  4.641000e+01\n",
      "75%       1.825000e+03  2.044000e+03  5.758000e+01\n",
      "max       3.436500e+04  4.617200e+04  1.000000e+02\n"
     ]
    }
   ],
   "source": [
    "print(df.describe())\n"
   ]
  }
 ],
 "metadata": {
  "kernelspec": {
   "display_name": "base",
   "language": "python",
   "name": "python3"
  },
  "language_info": {
   "codemirror_mode": {
    "name": "ipython",
    "version": 3
   },
   "file_extension": ".py",
   "mimetype": "text/x-python",
   "name": "python",
   "nbconvert_exporter": "python",
   "pygments_lexer": "ipython3",
   "version": "3.12.7"
  }
 },
 "nbformat": 4,
 "nbformat_minor": 5
}
